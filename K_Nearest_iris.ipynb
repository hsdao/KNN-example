{
 "cells": [
  {
   "cell_type": "markdown",
   "id": "c50f9705",
   "metadata": {},
   "source": [
    "Buoc 1: Khoi tao"
   ]
  },
  {
   "cell_type": "code",
   "execution_count": 510,
   "id": "26a58005",
   "metadata": {},
   "outputs": [],
   "source": [
    "import numpy as np\n",
    "import pandas as pd\n",
    "import matplotlib.pyplot as plt\n",
    "import random\n",
    "from sklearn.preprocessing import LabelEncoder\n",
    "from sklearn.model_selection import train_test_split\n",
    "from sklearn.preprocessing import LabelEncoder, StandardScaler\n",
    "from sklearn.model_selection import train_test_split, cross_val_score\n",
    "from sklearn.neighbors import KNeighborsClassifier\n",
    "\n",
    "\n",
    "# df = pd.read_csv(\"IRIS.csv\")\n",
    "# #Lay tat ca du lieu tru cot cuoi\n",
    "# X = df.iloc[:, :-1].values\n",
    "# #Lay moi cot cuoi\n",
    "# y_temp = df.iloc[:, -1].values\n",
    "# #Cong cu chuyen chu thanh so nguyen\n",
    "# le = LabelEncoder()\n",
    "# y = le.fit_transform(y_temp)\n",
    "\n"
   ]
  },
  {
   "cell_type": "markdown",
   "id": "b2a5ab6e",
   "metadata": {},
   "source": [
    "Buoc 2: Chia du lieu Train/Test"
   ]
  },
  {
   "cell_type": "code",
   "execution_count": 511,
   "id": "d2e10dd8",
   "metadata": {},
   "outputs": [],
   "source": [
    "# X_train, X_test, y_train, y_test = train_test_split( X, y, test_size=0.2, random_state = 13)\n",
    "# scaler = StandardScaler()\n",
    "# X_train = scaler.fit_transform(X_train)\n",
    "# X_test  = scaler.transform(X_test)\n",
    "\n",
    "# 1) load\n",
    "df = pd.read_csv(\"KNNAlgorithmDataset.csv\")\n",
    "\n",
    "# 2) chọn cột label (nếu có 'diagnosis' thì dùng nó, nếu không dùng cột cuối)\n",
    "label_col = 'diagnosis' if 'diagnosis' in df.columns else df.columns[-1]\n",
    "\n",
    "# 3) loại bỏ cột id nếu có, xóa cột toàn NaN\n",
    "if 'id' in df.columns: df = df.drop(columns=['id'])\n",
    "df = df.drop(columns=df.columns[df.isnull().all()])  # drop all-NaN cols\n",
    "\n",
    "# 4) tách X,y\n",
    "X = df.drop(columns=[label_col])\n",
    "y = df[label_col]\n",
    "\n",
    "# 5) xử lý missing trong X: với numeric -> fill median; categorical -> fill mode + one-hot\n",
    "X = X.fillna(X.median())               # numeric median\n",
    "X = pd.get_dummies(X)                  # nếu có categorical -> one-hot\n",
    "\n",
    "# 6) encode target nếu cần\n",
    "if y.dtype == 'O' or y.dtype.name == 'category':\n",
    "    y = LabelEncoder().fit_transform(y)\n",
    "\n",
    "# 7) split + scale\n",
    "X_train, X_test, y_train, y_test = train_test_split(X.values, y, test_size=0.2, random_state=42, shuffle=True)\n",
    "scaler = StandardScaler()\n",
    "X_train = scaler.fit_transform(X_train)\n",
    "X_test  = scaler.transform(X_test)"
   ]
  },
  {
   "cell_type": "markdown",
   "id": "77ee4267",
   "metadata": {},
   "source": [
    "Buoc 2: Tinh khoang cach tu z den N diem con lai"
   ]
  },
  {
   "cell_type": "code",
   "execution_count": 512,
   "id": "2a3cf0be",
   "metadata": {},
   "outputs": [],
   "source": [
    "def distance(z, X):\n",
    "    z2 = np.sum(z*z)\n",
    "    X2 = np.sum(X*X, axis=1)\n",
    "    return X2 + z2 - 2 * X.dot(z)"
   ]
  },
  {
   "cell_type": "markdown",
   "id": "672b7f71",
   "metadata": {},
   "source": [
    "Buoc 4: Tim K diem gan nhat"
   ]
  },
  {
   "cell_type": "code",
   "execution_count": 513,
   "id": "b5b41cd3",
   "metadata": {},
   "outputs": [],
   "source": [
    "def get_k_nearest_labels(z, X_train, y_train, K):\n",
    "    dists = distance(z,X_train)\n",
    "    \n",
    "    nearist_idx_temp = np.argsort(dists)\n",
    "    nearist_idx = []\n",
    "    for i in range(K):\n",
    "        nearist_idx.append(nearist_idx_temp[i])\n",
    "\n",
    "    nearest_labels = []\n",
    "    for i in range (K):\n",
    "        nearest_labels.append(y_train[nearist_idx[i]])\n",
    "    \n",
    "    return nearest_labels"
   ]
  },
  {
   "cell_type": "markdown",
   "id": "1791a8a8",
   "metadata": {},
   "source": [
    "Buoc 5: Gan nhan du lieu"
   ]
  },
  {
   "cell_type": "code",
   "execution_count": 514,
   "id": "f208b476",
   "metadata": {},
   "outputs": [],
   "source": [
    "def predict_label(nearest_label):\n",
    "    x = y = z = 0\n",
    "    for i in range(len(nearest_label)):\n",
    "        if nearest_label[i] == 0:\n",
    "            x += 1\n",
    "        elif nearest_label[i] == 1:\n",
    "            y += 1\n",
    "        else: z += 1\n",
    "    predict_label = max(x,y,z)\n",
    "    if predict_label == x : return 0\n",
    "    elif predict_label == y: return 1\n",
    "    else: return 2\n"
   ]
  },
  {
   "cell_type": "markdown",
   "id": "26d53065",
   "metadata": {},
   "source": [
    "Buoc 6: Kiem tra voi du lieu thuc te"
   ]
  },
  {
   "cell_type": "code",
   "execution_count": 515,
   "id": "6e37ef6a",
   "metadata": {},
   "outputs": [],
   "source": [
    "def evaluate(y_test, X_test, X_train, y_train, K):\n",
    "    correct = 0\n",
    "    for i in range(len(X_test)):\n",
    "        nearest_labels = get_k_nearest_labels(X_test[i], X_train, y_train, K)\n",
    "        if(y_test[i] == predict_label(nearest_labels)):\n",
    "            correct += 1\n",
    "    accuracy = correct / len(X_test)\n",
    "    return accuracy"
   ]
  },
  {
   "cell_type": "code",
   "execution_count": 516,
   "id": "c9755d91",
   "metadata": {},
   "outputs": [
    {
     "name": "stdout",
     "output_type": "stream",
     "text": [
      "Độ chính xác: 95.61%\n"
     ]
    }
   ],
   "source": [
    "K = 12\n",
    "res = evaluate(y_test, X_test, X_train, y_train, K)\n",
    "print(f\"Độ chính xác: {res*100:.2f}%\")"
   ]
  },
  {
   "cell_type": "markdown",
   "id": "1a18b7f8",
   "metadata": {},
   "source": []
  }
 ],
 "metadata": {
  "kernelspec": {
   "display_name": "venv",
   "language": "python",
   "name": "python3"
  },
  "language_info": {
   "codemirror_mode": {
    "name": "ipython",
    "version": 3
   },
   "file_extension": ".py",
   "mimetype": "text/x-python",
   "name": "python",
   "nbconvert_exporter": "python",
   "pygments_lexer": "ipython3",
   "version": "3.12.3"
  }
 },
 "nbformat": 4,
 "nbformat_minor": 5
}
